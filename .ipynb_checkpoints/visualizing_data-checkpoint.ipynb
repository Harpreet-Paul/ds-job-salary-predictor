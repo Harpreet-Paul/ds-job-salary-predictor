{
 "cells": [
  {
   "cell_type": "code",
   "execution_count": 1,
   "metadata": {},
   "outputs": [],
   "source": [
    "import pandas as pd\n",
    "import pickle\n",
    "import matplotlib as plt\n",
    "from scipy.stats import gaussian_kde"
   ]
  },
  {
   "cell_type": "code",
   "execution_count": 2,
   "metadata": {},
   "outputs": [],
   "source": [
    "df = pickle.load(open(\"jobs_df_cleaned.pkl\", \"rb\"))"
   ]
  },
  {
   "cell_type": "code",
   "execution_count": 3,
   "metadata": {},
   "outputs": [
    {
     "data": {
      "text/html": [
       "<div>\n",
       "<style scoped>\n",
       "    .dataframe tbody tr th:only-of-type {\n",
       "        vertical-align: middle;\n",
       "    }\n",
       "\n",
       "    .dataframe tbody tr th {\n",
       "        vertical-align: top;\n",
       "    }\n",
       "\n",
       "    .dataframe thead th {\n",
       "        text-align: right;\n",
       "    }\n",
       "</style>\n",
       "<table border=\"1\" class=\"dataframe\">\n",
       "  <thead>\n",
       "    <tr style=\"text-align: right;\">\n",
       "      <th></th>\n",
       "      <th>salary</th>\n",
       "      <th>description</th>\n",
       "      <th>company_size</th>\n",
       "      <th>company_type</th>\n",
       "      <th>industry</th>\n",
       "      <th>revenue</th>\n",
       "      <th>company_rating</th>\n",
       "      <th>recommend_to_a_friend</th>\n",
       "      <th>ceo_approval</th>\n",
       "      <th>interview_difficulty</th>\n",
       "      <th>location_bin</th>\n",
       "    </tr>\n",
       "  </thead>\n",
       "  <tbody>\n",
       "    <tr>\n",
       "      <th>0</th>\n",
       "      <td>144000</td>\n",
       "      <td>TikTok is the leading destination for short-fo...</td>\n",
       "      <td>1001 to 5000 employees</td>\n",
       "      <td>Private</td>\n",
       "      <td>Internet</td>\n",
       "      <td>-1</td>\n",
       "      <td>4.1</td>\n",
       "      <td>79</td>\n",
       "      <td>100</td>\n",
       "      <td>2.7</td>\n",
       "      <td>CA</td>\n",
       "    </tr>\n",
       "    <tr>\n",
       "      <th>1</th>\n",
       "      <td>107000</td>\n",
       "      <td>THE ROLE\\n\\nTesla's mission is to accelerate t...</td>\n",
       "      <td>10000+ employees</td>\n",
       "      <td>Public</td>\n",
       "      <td>Transportation Equipment Manufacturing</td>\n",
       "      <td>$2 to $5 billion (CAD) per year</td>\n",
       "      <td>3.5</td>\n",
       "      <td>59</td>\n",
       "      <td>75</td>\n",
       "      <td>2.9</td>\n",
       "      <td>CA</td>\n",
       "    </tr>\n",
       "    <tr>\n",
       "      <th>2</th>\n",
       "      <td>150000</td>\n",
       "      <td>Facebook's mission is to give people the power...</td>\n",
       "      <td>10000+ employees</td>\n",
       "      <td>Public</td>\n",
       "      <td>Internet</td>\n",
       "      <td>$5 to $10 billion (CAD) per year</td>\n",
       "      <td>4.4</td>\n",
       "      <td>90</td>\n",
       "      <td>94</td>\n",
       "      <td>3.1</td>\n",
       "      <td>CA</td>\n",
       "    </tr>\n",
       "    <tr>\n",
       "      <th>3</th>\n",
       "      <td>130000</td>\n",
       "      <td>Job Description\\n\\nThe New York Times is commi...</td>\n",
       "      <td>1001 to 5000 employees</td>\n",
       "      <td>Public</td>\n",
       "      <td>News Outlets</td>\n",
       "      <td>$1 to $2 billion (CAD) per year</td>\n",
       "      <td>3.8</td>\n",
       "      <td>80</td>\n",
       "      <td>95</td>\n",
       "      <td>2.9</td>\n",
       "      <td>NY</td>\n",
       "    </tr>\n",
       "    <tr>\n",
       "      <th>4</th>\n",
       "      <td>66225</td>\n",
       "      <td>About Cerebri AI Cerebri AI CVX platform uses ...</td>\n",
       "      <td>1 to 50 employees</td>\n",
       "      <td>Private</td>\n",
       "      <td>Enterprise Software &amp; Network Solutions</td>\n",
       "      <td>-1</td>\n",
       "      <td>3.9</td>\n",
       "      <td>75</td>\n",
       "      <td>80</td>\n",
       "      <td>2.4</td>\n",
       "      <td>ON</td>\n",
       "    </tr>\n",
       "    <tr>\n",
       "      <th>...</th>\n",
       "      <td>...</td>\n",
       "      <td>...</td>\n",
       "      <td>...</td>\n",
       "      <td>...</td>\n",
       "      <td>...</td>\n",
       "      <td>...</td>\n",
       "      <td>...</td>\n",
       "      <td>...</td>\n",
       "      <td>...</td>\n",
       "      <td>...</td>\n",
       "      <td>...</td>\n",
       "    </tr>\n",
       "    <tr>\n",
       "      <th>202</th>\n",
       "      <td>115000</td>\n",
       "      <td>Summary\\n\\nImagine what you could do here. At ...</td>\n",
       "      <td>10000+ employees</td>\n",
       "      <td>Public</td>\n",
       "      <td>Computer Hardware &amp; Software</td>\n",
       "      <td>$10+ billion (CAD) per year</td>\n",
       "      <td>4.2</td>\n",
       "      <td>83</td>\n",
       "      <td>93</td>\n",
       "      <td>3</td>\n",
       "      <td>TX</td>\n",
       "    </tr>\n",
       "    <tr>\n",
       "      <th>203</th>\n",
       "      <td>155000</td>\n",
       "      <td>Facebook's mission is to give people the power...</td>\n",
       "      <td>10000+ employees</td>\n",
       "      <td>Public</td>\n",
       "      <td>Internet</td>\n",
       "      <td>$5 to $10 billion (CAD) per year</td>\n",
       "      <td>4.4</td>\n",
       "      <td>90</td>\n",
       "      <td>94</td>\n",
       "      <td>3.1</td>\n",
       "      <td>WA</td>\n",
       "    </tr>\n",
       "    <tr>\n",
       "      <th>204</th>\n",
       "      <td>134000</td>\n",
       "      <td>Description\\n\\nExcited by using massive amount...</td>\n",
       "      <td>10000+ employees</td>\n",
       "      <td>Public</td>\n",
       "      <td>Internet</td>\n",
       "      <td>$10+ billion (CAD) per year</td>\n",
       "      <td>3.9</td>\n",
       "      <td>77</td>\n",
       "      <td>85</td>\n",
       "      <td>3</td>\n",
       "      <td>NJ</td>\n",
       "    </tr>\n",
       "    <tr>\n",
       "      <th>205</th>\n",
       "      <td>139000</td>\n",
       "      <td>PlayStation isn’t just the Best Place to Play ...</td>\n",
       "      <td>5001 to 10000 employees</td>\n",
       "      <td>Subsidiary or Business Segment</td>\n",
       "      <td>Video Games</td>\n",
       "      <td>$10+ billion (CAD) per year</td>\n",
       "      <td>3.7</td>\n",
       "      <td>75</td>\n",
       "      <td>73</td>\n",
       "      <td>2.7</td>\n",
       "      <td>CA</td>\n",
       "    </tr>\n",
       "    <tr>\n",
       "      <th>206</th>\n",
       "      <td>112000</td>\n",
       "      <td>Description:Performs exploratory research and ...</td>\n",
       "      <td>10000+ employees</td>\n",
       "      <td>Public</td>\n",
       "      <td>Aerospace &amp; Defence</td>\n",
       "      <td>$10+ billion (CAD) per year</td>\n",
       "      <td>3.9</td>\n",
       "      <td>78</td>\n",
       "      <td>96</td>\n",
       "      <td>2.6</td>\n",
       "      <td>Other</td>\n",
       "    </tr>\n",
       "  </tbody>\n",
       "</table>\n",
       "<p>207 rows × 11 columns</p>\n",
       "</div>"
      ],
      "text/plain": [
       "     salary                                        description  \\\n",
       "0    144000  TikTok is the leading destination for short-fo...   \n",
       "1    107000  THE ROLE\\n\\nTesla's mission is to accelerate t...   \n",
       "2    150000  Facebook's mission is to give people the power...   \n",
       "3    130000  Job Description\\n\\nThe New York Times is commi...   \n",
       "4     66225  About Cerebri AI Cerebri AI CVX platform uses ...   \n",
       "..      ...                                                ...   \n",
       "202  115000  Summary\\n\\nImagine what you could do here. At ...   \n",
       "203  155000  Facebook's mission is to give people the power...   \n",
       "204  134000  Description\\n\\nExcited by using massive amount...   \n",
       "205  139000  PlayStation isn’t just the Best Place to Play ...   \n",
       "206  112000  Description:Performs exploratory research and ...   \n",
       "\n",
       "                company_size                    company_type  \\\n",
       "0     1001 to 5000 employees                         Private   \n",
       "1           10000+ employees                          Public   \n",
       "2           10000+ employees                          Public   \n",
       "3     1001 to 5000 employees                          Public   \n",
       "4          1 to 50 employees                         Private   \n",
       "..                       ...                             ...   \n",
       "202         10000+ employees                          Public   \n",
       "203         10000+ employees                          Public   \n",
       "204         10000+ employees                          Public   \n",
       "205  5001 to 10000 employees  Subsidiary or Business Segment   \n",
       "206         10000+ employees                          Public   \n",
       "\n",
       "                                    industry  \\\n",
       "0                                   Internet   \n",
       "1     Transportation Equipment Manufacturing   \n",
       "2                                   Internet   \n",
       "3                               News Outlets   \n",
       "4    Enterprise Software & Network Solutions   \n",
       "..                                       ...   \n",
       "202             Computer Hardware & Software   \n",
       "203                                 Internet   \n",
       "204                                 Internet   \n",
       "205                              Video Games   \n",
       "206                      Aerospace & Defence   \n",
       "\n",
       "                              revenue  company_rating recommend_to_a_friend  \\\n",
       "0                                  -1             4.1                    79   \n",
       "1     $2 to $5 billion (CAD) per year             3.5                    59   \n",
       "2    $5 to $10 billion (CAD) per year             4.4                    90   \n",
       "3     $1 to $2 billion (CAD) per year             3.8                    80   \n",
       "4                                  -1             3.9                    75   \n",
       "..                                ...             ...                   ...   \n",
       "202       $10+ billion (CAD) per year             4.2                    83   \n",
       "203  $5 to $10 billion (CAD) per year             4.4                    90   \n",
       "204       $10+ billion (CAD) per year             3.9                    77   \n",
       "205       $10+ billion (CAD) per year             3.7                    75   \n",
       "206       $10+ billion (CAD) per year             3.9                    78   \n",
       "\n",
       "    ceo_approval interview_difficulty location_bin  \n",
       "0            100                  2.7           CA  \n",
       "1             75                  2.9           CA  \n",
       "2             94                  3.1           CA  \n",
       "3             95                  2.9           NY  \n",
       "4             80                  2.4           ON  \n",
       "..           ...                  ...          ...  \n",
       "202           93                    3           TX  \n",
       "203           94                  3.1           WA  \n",
       "204           85                    3           NJ  \n",
       "205           73                  2.7           CA  \n",
       "206           96                  2.6        Other  \n",
       "\n",
       "[207 rows x 11 columns]"
      ]
     },
     "execution_count": 3,
     "metadata": {},
     "output_type": "execute_result"
    }
   ],
   "source": [
    "df"
   ]
  },
  {
   "cell_type": "code",
   "execution_count": 4,
   "metadata": {},
   "outputs": [
    {
     "data": {
      "text/plain": [
       "<AxesSubplot:>"
      ]
     },
     "execution_count": 4,
     "metadata": {},
     "output_type": "execute_result"
    },
    {
     "data": {
      "image/png": "[encoded data removed]",
      "text/plain": [
       "<Figure size 432x288 with 1 Axes>"
      ]
     },
     "metadata": {
      "needs_background": "light"
     },
     "output_type": "display_data"
    }
   ],
   "source": [
    "df['salary'].hist()"
   ]
  },
  {
   "cell_type": "code",
   "execution_count": 5,
   "metadata": {},
   "outputs": [
    {
     "data": {
      "text/plain": [
       "108482.8309178744"
      ]
     },
     "execution_count": 5,
     "metadata": {},
     "output_type": "execute_result"
    }
   ],
   "source": [
    "df['salary'].mean()"
   ]
  },
  {
   "cell_type": "code",
   "execution_count": 6,
   "metadata": {},
   "outputs": [
    {
     "data": {
      "text/plain": [
       "105000.0"
      ]
     },
     "execution_count": 6,
     "metadata": {},
     "output_type": "execute_result"
    }
   ],
   "source": [
    "df['salary'].median()"
   ]
  },
  {
   "cell_type": "code",
   "execution_count": 7,
   "metadata": {},
   "outputs": [
    {
     "data": {
      "text/plain": [
       "29549.93206759413"
      ]
     },
     "execution_count": 7,
     "metadata": {},
     "output_type": "execute_result"
    }
   ],
   "source": [
    "df['salary'].std()"
   ]
  },
  {
   "cell_type": "code",
   "execution_count": 8,
   "metadata": {},
   "outputs": [
    {
     "data": {
      "text/plain": [
       "<AxesSubplot:ylabel='Density'>"
      ]
     },
     "execution_count": 8,
     "metadata": {},
     "output_type": "execute_result"
    },
    {
     "data": {
      "image/png": "[encoded data removed]",
      "text/plain": [
       "<Figure size 432x288 with 1 Axes>"
      ]
     },
     "metadata": {
      "needs_background": "light"
     },
     "output_type": "display_data"
    }
   ],
   "source": [
    "df['salary'].plot.density()"
   ]
  },
  {
   "cell_type": "code",
   "execution_count": 13,
   "metadata": {},
   "outputs": [
    {
     "data": {
      "image/png": "[encoded data removed]",
      "text/plain": [
       "<Figure size 432x288 with 1 Axes>"
      ]
     },
     "metadata": {
      "needs_background": "light"
     },
     "output_type": "display_data"
    }
   ],
   "source": [
    "boxplot = df.boxplot('salary')"
   ]
  },
  {
   "cell_type": "code",
   "execution_count": 14,
   "metadata": {},
   "outputs": [
    {
     "ename": "TypeError",
     "evalue": "'AxesSubplot' object is not subscriptable",
     "output_type": "error",
     "traceback": [
      "\u001b[1;31m---------------------------------------------------------------------------\u001b[0m",
      "\u001b[1;31mTypeError\u001b[0m                                 Traceback (most recent call last)",
      "\u001b[1;32m<ipython-input-14-20f06961f0aa>\u001b[0m in \u001b[0;36m<module>\u001b[1;34m\u001b[0m\n\u001b[1;32m----> 1\u001b[1;33m \u001b[0moutliers\u001b[0m \u001b[1;33m=\u001b[0m \u001b[1;33m[\u001b[0m\u001b[0mflier\u001b[0m\u001b[1;33m.\u001b[0m\u001b[0mget_ydata\u001b[0m\u001b[1;33m(\u001b[0m\u001b[1;33m)\u001b[0m \u001b[1;32mfor\u001b[0m \u001b[0mflier\u001b[0m \u001b[1;32min\u001b[0m \u001b[0mboxplot\u001b[0m\u001b[1;33m[\u001b[0m\u001b[1;34m\"fliers\"\u001b[0m\u001b[1;33m]\u001b[0m\u001b[1;33m]\u001b[0m\u001b[1;33m\u001b[0m\u001b[1;33m\u001b[0m\u001b[0m\n\u001b[0m",
      "\u001b[1;31mTypeError\u001b[0m: 'AxesSubplot' object is not subscriptable"
     ]
    }
   ],
   "source": [
    "df[(df['c'] < Q1-1.5*IQR ) | (df['col_name'] > Q3+1.5*IQR)]['col_name']"
   ]
  },
  {
   "cell_type": "code",
   "execution_count": null,
   "metadata": {},
   "outputs": [],
   "source": []
  }
 ],
 "metadata": {
  "kernelspec": {
   "display_name": "Python 3",
   "language": "python",
   "name": "python3"
  },
  "language_info": {
   "codemirror_mode": {
    "name": "ipython",
    "version": 3
   },
   "file_extension": ".py",
   "mimetype": "text/x-python",
   "name": "python",
   "nbconvert_exporter": "python",
   "pygments_lexer": "ipython3",
   "version": "3.8.5"
  }
 },
 "nbformat": 4,
 "nbformat_minor": 4
}
