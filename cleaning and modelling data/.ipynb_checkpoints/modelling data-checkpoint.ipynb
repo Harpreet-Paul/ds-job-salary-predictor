{
 "cells": [
  {
   "cell_type": "markdown",
   "metadata": {},
   "source": [
    "# Modelling Data"
   ]
  },
  {
   "cell_type": "code",
   "execution_count": 1,
   "metadata": {},
   "outputs": [],
   "source": [
    "import pickle\n",
    "import pandas as pd\n",
    "from sklearn.compose import ColumnTransformer\n",
    "from sklearn.feature_extraction.text import TfidfVectorizer\n",
    "from sklearn.preprocessing import OneHotEncoder\n",
    "from sklearn.impute import SimpleImputer\n",
    "from sklearn.linear_model import Lasso\n",
    "from sklearn.pipeline import Pipeline\n",
    "from sklearn.model_selection import GridSearchCV\n",
    "import time\n",
    "import numpy as np\n",
    "from sklearn.metrics import make_scorer\n",
    "from sklearn.model_selection import train_test_split\n",
    "from sklearn.ensemble import RandomForestRegressor\n",
    "from sklearn.experimental import enable_iterative_imputer\n",
    "from sklearn.impute import IterativeImputer\n",
    "from sklearn.model_selection import cross_val_score\n",
    "from sklearn.linear_model import Ridge\n",
    "from sklearn.ensemble import ExtraTreesRegressor\n",
    "from sklearn.ensemble import GradientBoostingRegressor"
   ]
  },
  {
   "cell_type": "code",
   "execution_count": 3,
   "metadata": {},
   "outputs": [],
   "source": [
    "## loading in the cleaned df\n",
    "\n",
    "df = pickle.load(open(\"C:/Users/harpr/Documents/GitHub/ds_salary_proj/pickle objects/jobs_df_cleaned.pkl\", \"rb\"))"
   ]
  },
  {
   "cell_type": "code",
   "execution_count": 4,
   "metadata": {},
   "outputs": [
    {
     "data": {
      "text/html": [
       "<div>\n",
       "<style scoped>\n",
       "    .dataframe tbody tr th:only-of-type {\n",
       "        vertical-align: middle;\n",
       "    }\n",
       "\n",
       "    .dataframe tbody tr th {\n",
       "        vertical-align: top;\n",
       "    }\n",
       "\n",
       "    .dataframe thead th {\n",
       "        text-align: right;\n",
       "    }\n",
       "</style>\n",
       "<table border=\"1\" class=\"dataframe\">\n",
       "  <thead>\n",
       "    <tr style=\"text-align: right;\">\n",
       "      <th></th>\n",
       "      <th>salary</th>\n",
       "      <th>description</th>\n",
       "      <th>company_size</th>\n",
       "      <th>company_type</th>\n",
       "      <th>industry</th>\n",
       "      <th>revenue</th>\n",
       "      <th>company_rating</th>\n",
       "      <th>recommend_to_a_friend</th>\n",
       "      <th>ceo_approval</th>\n",
       "      <th>interview_difficulty</th>\n",
       "      <th>location_bin</th>\n",
       "    </tr>\n",
       "  </thead>\n",
       "  <tbody>\n",
       "    <tr>\n",
       "      <th>0</th>\n",
       "      <td>144000</td>\n",
       "      <td>TikTok is the leading destination for short-fo...</td>\n",
       "      <td>1001 to 5000 employees</td>\n",
       "      <td>Private</td>\n",
       "      <td>Internet</td>\n",
       "      <td>NaN</td>\n",
       "      <td>4.1</td>\n",
       "      <td>79.0</td>\n",
       "      <td>100.0</td>\n",
       "      <td>2.7</td>\n",
       "      <td>CA</td>\n",
       "    </tr>\n",
       "    <tr>\n",
       "      <th>1</th>\n",
       "      <td>107000</td>\n",
       "      <td>THE ROLE\\n\\nTesla's mission is to accelerate t...</td>\n",
       "      <td>10000+ employees</td>\n",
       "      <td>Public</td>\n",
       "      <td>Transportation Equipment Manufacturing</td>\n",
       "      <td>$2 to $5 billion (CAD) per year</td>\n",
       "      <td>3.5</td>\n",
       "      <td>59.0</td>\n",
       "      <td>75.0</td>\n",
       "      <td>2.9</td>\n",
       "      <td>CA</td>\n",
       "    </tr>\n",
       "    <tr>\n",
       "      <th>2</th>\n",
       "      <td>150000</td>\n",
       "      <td>Facebook's mission is to give people the power...</td>\n",
       "      <td>10000+ employees</td>\n",
       "      <td>Public</td>\n",
       "      <td>Internet</td>\n",
       "      <td>$5 to $10 billion (CAD) per year</td>\n",
       "      <td>4.4</td>\n",
       "      <td>90.0</td>\n",
       "      <td>94.0</td>\n",
       "      <td>3.1</td>\n",
       "      <td>CA</td>\n",
       "    </tr>\n",
       "    <tr>\n",
       "      <th>3</th>\n",
       "      <td>130000</td>\n",
       "      <td>Job Description\\n\\nThe New York Times is commi...</td>\n",
       "      <td>1001 to 5000 employees</td>\n",
       "      <td>Public</td>\n",
       "      <td>News Outlets</td>\n",
       "      <td>$1 to $2 billion (CAD) per year</td>\n",
       "      <td>3.8</td>\n",
       "      <td>80.0</td>\n",
       "      <td>95.0</td>\n",
       "      <td>2.9</td>\n",
       "      <td>NY</td>\n",
       "    </tr>\n",
       "    <tr>\n",
       "      <th>4</th>\n",
       "      <td>66225</td>\n",
       "      <td>About Cerebri AI Cerebri AI CVX platform uses ...</td>\n",
       "      <td>1 to 50 employees</td>\n",
       "      <td>Private</td>\n",
       "      <td>Enterprise Software &amp; Network Solutions</td>\n",
       "      <td>NaN</td>\n",
       "      <td>3.9</td>\n",
       "      <td>75.0</td>\n",
       "      <td>80.0</td>\n",
       "      <td>2.4</td>\n",
       "      <td>ON</td>\n",
       "    </tr>\n",
       "    <tr>\n",
       "      <th>...</th>\n",
       "      <td>...</td>\n",
       "      <td>...</td>\n",
       "      <td>...</td>\n",
       "      <td>...</td>\n",
       "      <td>...</td>\n",
       "      <td>...</td>\n",
       "      <td>...</td>\n",
       "      <td>...</td>\n",
       "      <td>...</td>\n",
       "      <td>...</td>\n",
       "      <td>...</td>\n",
       "    </tr>\n",
       "    <tr>\n",
       "      <th>200</th>\n",
       "      <td>115000</td>\n",
       "      <td>Summary\\n\\nImagine what you could do here. At ...</td>\n",
       "      <td>10000+ employees</td>\n",
       "      <td>Public</td>\n",
       "      <td>Computer Hardware &amp; Software</td>\n",
       "      <td>$10+ billion (CAD) per year</td>\n",
       "      <td>4.2</td>\n",
       "      <td>83.0</td>\n",
       "      <td>93.0</td>\n",
       "      <td>3.0</td>\n",
       "      <td>TX</td>\n",
       "    </tr>\n",
       "    <tr>\n",
       "      <th>201</th>\n",
       "      <td>155000</td>\n",
       "      <td>Facebook's mission is to give people the power...</td>\n",
       "      <td>10000+ employees</td>\n",
       "      <td>Public</td>\n",
       "      <td>Internet</td>\n",
       "      <td>$5 to $10 billion (CAD) per year</td>\n",
       "      <td>4.4</td>\n",
       "      <td>90.0</td>\n",
       "      <td>94.0</td>\n",
       "      <td>3.1</td>\n",
       "      <td>WA</td>\n",
       "    </tr>\n",
       "    <tr>\n",
       "      <th>202</th>\n",
       "      <td>134000</td>\n",
       "      <td>Description\\n\\nExcited by using massive amount...</td>\n",
       "      <td>10000+ employees</td>\n",
       "      <td>Public</td>\n",
       "      <td>Internet</td>\n",
       "      <td>$10+ billion (CAD) per year</td>\n",
       "      <td>3.9</td>\n",
       "      <td>77.0</td>\n",
       "      <td>85.0</td>\n",
       "      <td>3.0</td>\n",
       "      <td>NJ</td>\n",
       "    </tr>\n",
       "    <tr>\n",
       "      <th>203</th>\n",
       "      <td>139000</td>\n",
       "      <td>PlayStation isn’t just the Best Place to Play ...</td>\n",
       "      <td>5001 to 10000 employees</td>\n",
       "      <td>Subsidiary or Business Segment</td>\n",
       "      <td>Video Games</td>\n",
       "      <td>$10+ billion (CAD) per year</td>\n",
       "      <td>3.7</td>\n",
       "      <td>75.0</td>\n",
       "      <td>73.0</td>\n",
       "      <td>2.7</td>\n",
       "      <td>CA</td>\n",
       "    </tr>\n",
       "    <tr>\n",
       "      <th>204</th>\n",
       "      <td>112000</td>\n",
       "      <td>Description:Performs exploratory research and ...</td>\n",
       "      <td>10000+ employees</td>\n",
       "      <td>Public</td>\n",
       "      <td>Aerospace &amp; Defence</td>\n",
       "      <td>$10+ billion (CAD) per year</td>\n",
       "      <td>3.9</td>\n",
       "      <td>78.0</td>\n",
       "      <td>96.0</td>\n",
       "      <td>2.6</td>\n",
       "      <td>Other</td>\n",
       "    </tr>\n",
       "  </tbody>\n",
       "</table>\n",
       "<p>205 rows × 11 columns</p>\n",
       "</div>"
      ],
      "text/plain": [
       "     salary                                        description  \\\n",
       "0    144000  TikTok is the leading destination for short-fo...   \n",
       "1    107000  THE ROLE\\n\\nTesla's mission is to accelerate t...   \n",
       "2    150000  Facebook's mission is to give people the power...   \n",
       "3    130000  Job Description\\n\\nThe New York Times is commi...   \n",
       "4     66225  About Cerebri AI Cerebri AI CVX platform uses ...   \n",
       "..      ...                                                ...   \n",
       "200  115000  Summary\\n\\nImagine what you could do here. At ...   \n",
       "201  155000  Facebook's mission is to give people the power...   \n",
       "202  134000  Description\\n\\nExcited by using massive amount...   \n",
       "203  139000  PlayStation isn’t just the Best Place to Play ...   \n",
       "204  112000  Description:Performs exploratory research and ...   \n",
       "\n",
       "                company_size                    company_type  \\\n",
       "0     1001 to 5000 employees                         Private   \n",
       "1           10000+ employees                          Public   \n",
       "2           10000+ employees                          Public   \n",
       "3     1001 to 5000 employees                          Public   \n",
       "4          1 to 50 employees                         Private   \n",
       "..                       ...                             ...   \n",
       "200         10000+ employees                          Public   \n",
       "201         10000+ employees                          Public   \n",
       "202         10000+ employees                          Public   \n",
       "203  5001 to 10000 employees  Subsidiary or Business Segment   \n",
       "204         10000+ employees                          Public   \n",
       "\n",
       "                                    industry  \\\n",
       "0                                   Internet   \n",
       "1     Transportation Equipment Manufacturing   \n",
       "2                                   Internet   \n",
       "3                               News Outlets   \n",
       "4    Enterprise Software & Network Solutions   \n",
       "..                                       ...   \n",
       "200             Computer Hardware & Software   \n",
       "201                                 Internet   \n",
       "202                                 Internet   \n",
       "203                              Video Games   \n",
       "204                      Aerospace & Defence   \n",
       "\n",
       "                              revenue  company_rating  recommend_to_a_friend  \\\n",
       "0                                 NaN             4.1                   79.0   \n",
       "1     $2 to $5 billion (CAD) per year             3.5                   59.0   \n",
       "2    $5 to $10 billion (CAD) per year             4.4                   90.0   \n",
       "3     $1 to $2 billion (CAD) per year             3.8                   80.0   \n",
       "4                                 NaN             3.9                   75.0   \n",
       "..                                ...             ...                    ...   \n",
       "200       $10+ billion (CAD) per year             4.2                   83.0   \n",
       "201  $5 to $10 billion (CAD) per year             4.4                   90.0   \n",
       "202       $10+ billion (CAD) per year             3.9                   77.0   \n",
       "203       $10+ billion (CAD) per year             3.7                   75.0   \n",
       "204       $10+ billion (CAD) per year             3.9                   78.0   \n",
       "\n",
       "     ceo_approval  interview_difficulty location_bin  \n",
       "0           100.0                   2.7           CA  \n",
       "1            75.0                   2.9           CA  \n",
       "2            94.0                   3.1           CA  \n",
       "3            95.0                   2.9           NY  \n",
       "4            80.0                   2.4           ON  \n",
       "..            ...                   ...          ...  \n",
       "200          93.0                   3.0           TX  \n",
       "201          94.0                   3.1           WA  \n",
       "202          85.0                   3.0           NJ  \n",
       "203          73.0                   2.7           CA  \n",
       "204          96.0                   2.6        Other  \n",
       "\n",
       "[205 rows x 11 columns]"
      ]
     },
     "execution_count": 4,
     "metadata": {},
     "output_type": "execute_result"
    }
   ],
   "source": [
    "df"
   ]
  },
  {
   "cell_type": "markdown",
   "metadata": {},
   "source": [
    "## Scoring Metric"
   ]
  },
  {
   "cell_type": "markdown",
   "metadata": {},
   "source": [
    "To devise an appropriate scoring metric for model comparison, it was necessary to first consider  what good model performance would look like in the context of the model’s use case. The use case for a job salary predictor would be for job seekers to have an estimate of a position’s salary so they could negotiate a salary above said estimate. There is far less cost to a job seeker for negotiating a salary above what the position is worth than there is for negotiating a salary below what it’s worth. Therefore, a good model would be one that provides a prediction close to the actual salary, but favors overestimating salaries over underestimating them. To this end, the following scoring metric was used, where a lower score indicates better model performance:\n",
    "\n",
    "$score$ = $(salary - salary_{estimated})^2$ +  $I(salary, salary_{estimated})$\n",
    "\n",
    "$I(salary, salary_{estimated})$ = ${\\begin{Bmatrix}0&salary_{estimated} > salary\\\\|salary - salary_{estimated}|&salary_{estimated} < salary\\end{Bmatrix}}$"
   ]
  },
  {
   "cell_type": "code",
   "execution_count": 5,
   "metadata": {},
   "outputs": [],
   "source": [
    "## defining the scoring metric to be used with model evaluation \n",
    "\n",
    "def scoring_metric_(y_true, y_predicted):\n",
    "    \n",
    "    ## Squared error component of the error\n",
    "    \n",
    "    error_1 = ((y_true - y_predicted)**2)\n",
    "    \n",
    "    ## additional penalty for underestimating the salary \n",
    "    \n",
    "    error_2 = (y_true - y_predicted)\n",
    "    error_2[error_2 <= 0] = 0\n",
    "    \n",
    "    ## adding and then averaging the errors \n",
    "    \n",
    "    total_error = error_1 + error_2\n",
    "    \n",
    "    average_error = np.average(total_error)\n",
    "    \n",
    "    return average_error"
   ]
  },
  {
   "cell_type": "code",
   "execution_count": 6,
   "metadata": {},
   "outputs": [],
   "source": [
    "## Creating a scikit learn scoring objet from the scoring function that will be passed as a parameter inside grid search instances. \n",
    "\n",
    "scoring_metric = make_scorer(scoring_metric_, greater_is_better = False)"
   ]
  },
  {
   "cell_type": "markdown",
   "metadata": {},
   "source": [
    "## Models"
   ]
  },
  {
   "cell_type": "markdown",
   "metadata": {},
   "source": [
    "Given the small size of the training set and the amount of missing values, it made sense to fit models to the data that were especially insusceptible to overfitting. This constraint precluded ordinary regression, KNN, decision tree and neural net models from use. Regularized regression, random forest and gradient boosted tree models remained as viable choices. The tree based models seemed particularly suitable for the task because of their ability to capture non-linear relationships in the data without adding on model parameters and increasing model variance.\n",
    "\n",
    "The company size, revenue, company rating, recommend to a friend rating, ceo approval rating and interview difficulty rating features all had missing values. Given the small size of the training set, it was unfeasible to simply remove any rows with missing values because most contained atleast one. Thus, missing value imputation was needed. To start, a univariate imputation strategy (Scikit Learn SimpleImputer class) was used with each of the models. Missing values were imputed using the mean/median of a feature if the feature was continuous and with the most frequent value if the feature was categorical. Then, a multivariate imputation strategy (Scikit Learn IterativeImputer class) was tested with the best performing model from the univariate imputation trials. In multivariate imputation, missing values in a given feature were imputed by predicting them from a model trained on the remaining features.\n",
    "\n",
    "While grid-searching for optimal model parameters based on cross-validation scores using the above defined scoring metric, parameter spaces to search were, in general, chosen so as to reduce model complexity and therefore variance, given the risk of overfitting. "
   ]
  },
  {
   "cell_type": "markdown",
   "metadata": {},
   "source": [
    "### Lasso with SimpleImputer"
   ]
  },
  {
   "cell_type": "code",
   "execution_count": 7,
   "metadata": {},
   "outputs": [],
   "source": [
    "## Splitting the training set into the feature matrix (X) and the response matrix (Y)\n",
    "\n",
    "X = df.iloc[:, 1:]\n",
    "Y = df.iloc[:, 0]"
   ]
  },
  {
   "cell_type": "code",
   "execution_count": null,
   "metadata": {},
   "outputs": [],
   "source": [
    "## Creating pipelines of transformers to be applied to various subsets of the feature matrix to preprocess the data.  "
   ]
  },
  {
   "cell_type": "markdown",
   "metadata": {},
   "source": [
    "The job description column was converted into a bag of words representation to make it digestible for ML models.  A TF-IDF (term frequency - inverse document frequency) weighting was applied to the document-term matrix so that the presence or lack thereof of rarer terms would have a greater influence on the salary prediction."
   ]
  },
  {
   "cell_type": "code",
   "execution_count": 8,
   "metadata": {},
   "outputs": [],
   "source": [
    " ## 'description' column will be transformed into a document-term matrix using the TfidfVectorizer transformer. \n",
    "\n",
    "text_columns = 'description'\n",
    "text_pipe =Pipeline(steps = [(\"tfidf\", TfidfVectorizer(token_pattern =  r\"[a-zA-Z0-9\\+\\-\\.]+\"))])"
   ]
  },
  {
   "cell_type": "markdown",
   "metadata": {},
   "source": [
    "Categorical features -- the company size, company type, industry, revenue and location -- were one hot encoded to make them digestible for ML models. The company size, type and revenue features all had a modest number of levels, so high cardinality was not an issue. The industry feature, however, had many levels and therefore posed a problem. There were a few common industries and then single instances of many different industries. Encountering unseen levels at the time of prediction was not so much of an issue because most of the major industries were present in the training set. Overfitting the model to the various levels was, however, an . Unfortunately, there was no way to group together the single instances of many different industries without significantly reducing the granularity of information contained in the column. Therefore, the one-hot encoded industry feature was left as is. "
   ]
  },
  {
   "cell_type": "code",
   "execution_count": null,
   "metadata": {},
   "outputs": [],
   "source": [
    "## columns of continuous variables will have missing values imputed using the SimpleImputer transformer\n",
    "\n",
    "continuous_columns = ['company_rating', 'recommend_to_a_friend', 'ceo_approval', 'interview_difficulty']\n",
    "continuous_pipe =Pipeline(steps = [(\"impute_continuous\", SimpleImputer())])\n",
    "\n",
    "## Columns of categorical variables will have missing values imputed and will then be one-hot encoded using the OneHotEncoder transformer. \n",
    "\n",
    "categorical_columns = ['company_size', 'company_type', 'industry', 'revenue', 'location_bin']\n",
    "categorical_pipe =Pipeline(steps = [(\"impute_categorical\", SimpleImputer(strategy = 'most_frequent')), ('one_hot', OneHotEncoder(handle_unknown = 'ignore'))])"
   ]
  },
  {
   "cell_type": "code",
   "execution_count": 9,
   "metadata": {},
   "outputs": [],
   "source": [
    "## Combining the various pipelines inside a ColumnTransformer object which will apply the transformations (pipelines) to their respective columns in parallel and then concatenate the outputs together. \n",
    "\n",
    "lasso_preprocess= ColumnTransformer([(\"text\", text_pipe, text_columns), (\"num\", continuous_pipe, continuous_columns), (\"cat\", categorical_pipe, categorical_columns)], remainder = 'passthrough')\n",
    "\n",
    "## Combining the column transformer object with the lasso estimator inside another pipeline, so that the output of the column transformer -- the processed feature matrix -- is passed into the lasso estimator. \n",
    "\n",
    "lasso_pipe = Pipeline(steps = [(\"lasso_preprocess\", lasso_preprocess), (\"lasso\", Lasso(normalize = True, warm_start=True))])\n",
    "\n",
    "## Defining the paramter grid to be used inside the grid search object.\n",
    "\n",
    "lasso_parameters = {'lasso_preprocess__text__tfidf__ngram_range' : [(1,2), (1,3)], 'lasso_preprocess__text__tfidf__min_df' : [0.0, 0.05, 0.10], 'lasso_preprocess__text__tfidf__max_df' : [0.80, 0.85, 0.90], 'lasso_preprocess__num__impute_continuous__strategy': ['mean', 'median'], 'lasso_preprocess__num__impute_continuous__add_indicator' : [True, False], 'lasso_preprocess__cat__impute_categorical__add_indicator' : [True, False], \"lasso__alpha\" : [1.0, 2.0, 4.0]}\n",
    "\n",
    "## Instantiating the grid search object with the parameter grid,  pipeline of columntransformer + estimator and the custom scoring object. \n",
    "\n",
    "lasso_gs = GridSearchCV(lasso_pipe, lasso_parameters, scoring = scoring_metric, return_train_score = True, n_jobs = -1, verbose=10)    "
   ]
  },
  {
   "cell_type": "code",
   "execution_count": null,
   "metadata": {},
   "outputs": [],
   "source": [
    "## Fitting the grid search object to the data. \n",
    "\n",
    "lasso_gs.fit(X,Y)"
   ]
  },
  {
   "cell_type": "markdown",
   "metadata": {},
   "source": [
    "#### Score"
   ]
  },
  {
   "cell_type": "code",
   "execution_count": 11,
   "metadata": {},
   "outputs": [
    {
     "data": {
      "text/plain": [
       "-511853083.4323797"
      ]
     },
     "execution_count": 11,
     "metadata": {},
     "output_type": "execute_result"
    }
   ],
   "source": [
    "## Retrieving the score (based on the custom scoring metric) achieved by the best hyperparameter combination.\n",
    "\n",
    "lasso_gs.best_score_"
   ]
  },
  {
   "cell_type": "markdown",
   "metadata": {},
   "source": [
    "### Ridge with SimpleImputer"
   ]
  },
  {
   "cell_type": "code",
   "execution_count": 12,
   "metadata": {},
   "outputs": [],
   "source": [
    "## Reusing the lasso preprocessing pipeline with the ridge estimator \n",
    "\n",
    "ridge_pipe = Pipeline(steps = [(\"ridge_preprocess\", lasso_preprocess), (\"ridge\", Ridge(normalize = True))])\n",
    "ridge_parameters = {'ridge_preprocess__text__tfidf__ngram_range' : [(1,2), (1,3)], 'ridge_preprocess__text__tfidf__min_df' : [0.0, 0.05, 0.10], 'ridge_preprocess__text__tfidf__max_df' : [0.80, 0.85, 0.90], 'ridge_preprocess__num__impute_continuous__strategy': ['mean', 'median'], 'ridge_preprocess__num__impute_continuous__add_indicator' : [True, False], 'ridge_preprocess__cat__impute_categorical__add_indicator' : [True, False], \"ridge__alpha\" : [1.0, 2.0, 4.0, 8.0]}\n",
    "ridge_gs = GridSearchCV(ridge_pipe, ridge_parameters, scoring = make_scorer(scoring_metric_, greater_is_better = False), return_train_score = True, n_jobs = -1, verbose=10)    "
   ]
  },
  {
   "cell_type": "code",
   "execution_count": null,
   "metadata": {},
   "outputs": [],
   "source": [
    "ridge_gs.fit(X, Y)"
   ]
  },
  {
   "cell_type": "markdown",
   "metadata": {},
   "source": [
    "#### Score"
   ]
  },
  {
   "cell_type": "code",
   "execution_count": 150,
   "metadata": {},
   "outputs": [
    {
     "data": {
      "text/plain": [
       "-632986257.9196513"
      ]
     },
     "execution_count": 150,
     "metadata": {},
     "output_type": "execute_result"
    }
   ],
   "source": [
    "ridge_gs.best_score_"
   ]
  },
  {
   "cell_type": "markdown",
   "metadata": {},
   "source": [
    "### Random Forest with SimpleImputer"
   ]
  },
  {
   "cell_type": "code",
   "execution_count": 13,
   "metadata": {},
   "outputs": [],
   "source": [
    "## Reusing the lasso preprocessing pipeline with the random forest estimator \n",
    "\n",
    "rf_pipe = Pipeline(steps = [(\"rf_preprocess\", lasso_preprocess), (\"rf\", RandomForestRegressor(n_estimators = 500, oob_score = True, n_jobs = -1))])\n",
    "\n",
    "rf_parameters = {'rf_preprocess__text__tfidf__ngram_range' : [(1,2), (1,3)], 'rf_preprocess__text__tfidf__min_df' : [0.0, 0.05, 0.10], 'rf_preprocess__text__tfidf__max_df' : [0.80, 0.85, 0.90], 'rf_preprocess__num__impute_continuous__strategy': ['mean', 'median'], 'rf_preprocess__num__impute_continuous__add_indicator' : [True], 'rf_preprocess__cat__impute_categorical__add_indicator' : [True], 'rf__max_features': [175, 350, 700, 1400]}\n",
    "\n",
    "rf_gs = GridSearchCV(rf_pipe, rf_parameters, scoring = scoring_metric, return_train_score = True, n_jobs = -1, verbose=10)    "
   ]
  },
  {
   "cell_type": "code",
   "execution_count": null,
   "metadata": {},
   "outputs": [],
   "source": [
    "rf_gs.fit(X, Y)"
   ]
  },
  {
   "cell_type": "markdown",
   "metadata": {},
   "source": [
    "#### Score"
   ]
  },
  {
   "cell_type": "code",
   "execution_count": 15,
   "metadata": {},
   "outputs": [
    {
     "data": {
      "text/plain": [
       "-412399743.3754406"
      ]
     },
     "execution_count": 15,
     "metadata": {},
     "output_type": "execute_result"
    }
   ],
   "source": [
    "rf_gs.best_score_"
   ]
  },
  {
   "cell_type": "markdown",
   "metadata": {},
   "source": [
    "### Gradient Boosted Tree with SimpleImputer"
   ]
  },
  {
   "cell_type": "code",
   "execution_count": 16,
   "metadata": {},
   "outputs": [],
   "source": [
    "## Reusing the lasso preprocessing pipeline with the gradient boosted tree estimator \n",
    "\n",
    "gb_pipe = Pipeline(steps = [(\"gb_preprocess\", lasso_preprocess), (\"gb\", GradientBoostingRegressor())])\n",
    "gb_parameters = {'gb_preprocess__text__tfidf__ngram_range' : [(1,2), (1,3)], 'gb_preprocess__text__tfidf__min_df' : [0.0, 0.05, 0.10], 'gb_preprocess__text__tfidf__max_df' : [0.80, 0.85, 0.90], 'gb_preprocess__num__impute_continuous__strategy': ['median'], 'gb_preprocess__num__impute_continuous__add_indicator' : [True], 'gb_preprocess__cat__impute_categorical__add_indicator' : [True], 'gb__learning_rate': [0.1, 0.05, 0.025], 'gb__n_estimators' : [100, 200, 400], 'gb__max_features' : [None, 'sqrt'], 'gb__max_depth' : [1,2,3]}\n",
    "gb_gs = GridSearchCV(gb_pipe, gb_parameters, scoring = make_scorer(scoring_metric_, greater_is_better = False), return_train_score = True, n_jobs = -1, verbose=10)    "
   ]
  },
  {
   "cell_type": "code",
   "execution_count": null,
   "metadata": {},
   "outputs": [],
   "source": [
    "gb_gs.fit(X, Y)"
   ]
  },
  {
   "cell_type": "markdown",
   "metadata": {},
   "source": [
    "#### Score"
   ]
  },
  {
   "cell_type": "code",
   "execution_count": 159,
   "metadata": {},
   "outputs": [
    {
     "data": {
      "text/plain": [
       "-390555067.43253165"
      ]
     },
     "execution_count": 159,
     "metadata": {},
     "output_type": "execute_result"
    }
   ],
   "source": [
    "gb_gs.best_score_"
   ]
  },
  {
   "cell_type": "markdown",
   "metadata": {},
   "source": [
    "### Gradient Boosted Tree with IterativeImputer"
   ]
  },
  {
   "cell_type": "markdown",
   "metadata": {},
   "source": [
    "Using Scikit-learn's IterativeImputer class in conjunction with the OneHotEncoder class presents a problem. The IterativeImputer class requires all categorical variables to be one-hot encoded first, but the OneHotEncoder class requires missing values in categorical variables be imputed first. To work around this problem, we use the pandas get_dummies method, which can handle missing values, to encode the categorical variables. The get_dummies method creates a new bindary feature for each level of a categorical variable and one additional feature to indicate a missing value. For example, imagine a categorical variable has 3 levels. A row with a missing value for this variable would be encoded as [0, 0, 0, 1], where the first 3 columns correspond to the 3 levels of the variable and the last column corresponds to the missing value indicator feature. To make this encoding compatible with the IterativeImputer, we can replace all 0 values with np.nan and drop the missing value indicator feature entirely. This would make the row look like this: [NaN, NaN, NaN]. Now, the IterativeImputer can simply predict a value (ideally only 0 or 1) at each level of the categorical variable to indicate whether or not it thinks the missing value belongs to that level. For example, the final output after imputation could be [0, 0, 1], indicating that the IterativeImputer thinks that the missing value is the 3rd level of the categorical variable. "
   ]
  },
  {
   "cell_type": "code",
   "execution_count": 17,
   "metadata": {},
   "outputs": [
    {
     "data": {
      "text/html": [
       "<div>\n",
       "<style scoped>\n",
       "    .dataframe tbody tr th:only-of-type {\n",
       "        vertical-align: middle;\n",
       "    }\n",
       "\n",
       "    .dataframe tbody tr th {\n",
       "        vertical-align: top;\n",
       "    }\n",
       "\n",
       "    .dataframe thead th {\n",
       "        text-align: right;\n",
       "    }\n",
       "</style>\n",
       "<table border=\"1\" class=\"dataframe\">\n",
       "  <thead>\n",
       "    <tr style=\"text-align: right;\">\n",
       "      <th></th>\n",
       "      <th>description</th>\n",
       "      <th>company_rating</th>\n",
       "      <th>recommend_to_a_friend</th>\n",
       "      <th>ceo_approval</th>\n",
       "      <th>interview_difficulty</th>\n",
       "      <th>company_size_1 to 50 employees</th>\n",
       "      <th>company_size_10000+ employees</th>\n",
       "      <th>company_size_1001 to 5000 employees</th>\n",
       "      <th>company_size_201 to 500 employees</th>\n",
       "      <th>company_size_5001 to 10000 employees</th>\n",
       "      <th>...</th>\n",
       "      <th>location_bin_NY</th>\n",
       "      <th>location_bin_ON</th>\n",
       "      <th>location_bin_OR</th>\n",
       "      <th>location_bin_Other</th>\n",
       "      <th>location_bin_QC</th>\n",
       "      <th>location_bin_Scotland</th>\n",
       "      <th>location_bin_TX</th>\n",
       "      <th>location_bin_VA</th>\n",
       "      <th>location_bin_WA</th>\n",
       "      <th>location_bin_nan</th>\n",
       "    </tr>\n",
       "  </thead>\n",
       "  <tbody>\n",
       "    <tr>\n",
       "      <th>0</th>\n",
       "      <td>TikTok is the leading destination for short-fo...</td>\n",
       "      <td>4.1</td>\n",
       "      <td>79.0</td>\n",
       "      <td>100.0</td>\n",
       "      <td>2.7</td>\n",
       "      <td>0</td>\n",
       "      <td>0</td>\n",
       "      <td>1</td>\n",
       "      <td>0</td>\n",
       "      <td>0</td>\n",
       "      <td>...</td>\n",
       "      <td>0</td>\n",
       "      <td>0</td>\n",
       "      <td>0</td>\n",
       "      <td>0</td>\n",
       "      <td>0</td>\n",
       "      <td>0</td>\n",
       "      <td>0</td>\n",
       "      <td>0</td>\n",
       "      <td>0</td>\n",
       "      <td>0</td>\n",
       "    </tr>\n",
       "    <tr>\n",
       "      <th>1</th>\n",
       "      <td>THE ROLE\\n\\nTesla's mission is to accelerate t...</td>\n",
       "      <td>3.5</td>\n",
       "      <td>59.0</td>\n",
       "      <td>75.0</td>\n",
       "      <td>2.9</td>\n",
       "      <td>0</td>\n",
       "      <td>1</td>\n",
       "      <td>0</td>\n",
       "      <td>0</td>\n",
       "      <td>0</td>\n",
       "      <td>...</td>\n",
       "      <td>0</td>\n",
       "      <td>0</td>\n",
       "      <td>0</td>\n",
       "      <td>0</td>\n",
       "      <td>0</td>\n",
       "      <td>0</td>\n",
       "      <td>0</td>\n",
       "      <td>0</td>\n",
       "      <td>0</td>\n",
       "      <td>0</td>\n",
       "    </tr>\n",
       "    <tr>\n",
       "      <th>2</th>\n",
       "      <td>Facebook's mission is to give people the power...</td>\n",
       "      <td>4.4</td>\n",
       "      <td>90.0</td>\n",
       "      <td>94.0</td>\n",
       "      <td>3.1</td>\n",
       "      <td>0</td>\n",
       "      <td>1</td>\n",
       "      <td>0</td>\n",
       "      <td>0</td>\n",
       "      <td>0</td>\n",
       "      <td>...</td>\n",
       "      <td>0</td>\n",
       "      <td>0</td>\n",
       "      <td>0</td>\n",
       "      <td>0</td>\n",
       "      <td>0</td>\n",
       "      <td>0</td>\n",
       "      <td>0</td>\n",
       "      <td>0</td>\n",
       "      <td>0</td>\n",
       "      <td>0</td>\n",
       "    </tr>\n",
       "    <tr>\n",
       "      <th>3</th>\n",
       "      <td>Job Description\\n\\nThe New York Times is commi...</td>\n",
       "      <td>3.8</td>\n",
       "      <td>80.0</td>\n",
       "      <td>95.0</td>\n",
       "      <td>2.9</td>\n",
       "      <td>0</td>\n",
       "      <td>0</td>\n",
       "      <td>1</td>\n",
       "      <td>0</td>\n",
       "      <td>0</td>\n",
       "      <td>...</td>\n",
       "      <td>1</td>\n",
       "      <td>0</td>\n",
       "      <td>0</td>\n",
       "      <td>0</td>\n",
       "      <td>0</td>\n",
       "      <td>0</td>\n",
       "      <td>0</td>\n",
       "      <td>0</td>\n",
       "      <td>0</td>\n",
       "      <td>0</td>\n",
       "    </tr>\n",
       "    <tr>\n",
       "      <th>4</th>\n",
       "      <td>About Cerebri AI Cerebri AI CVX platform uses ...</td>\n",
       "      <td>3.9</td>\n",
       "      <td>75.0</td>\n",
       "      <td>80.0</td>\n",
       "      <td>2.4</td>\n",
       "      <td>1</td>\n",
       "      <td>0</td>\n",
       "      <td>0</td>\n",
       "      <td>0</td>\n",
       "      <td>0</td>\n",
       "      <td>...</td>\n",
       "      <td>0</td>\n",
       "      <td>1</td>\n",
       "      <td>0</td>\n",
       "      <td>0</td>\n",
       "      <td>0</td>\n",
       "      <td>0</td>\n",
       "      <td>0</td>\n",
       "      <td>0</td>\n",
       "      <td>0</td>\n",
       "      <td>0</td>\n",
       "    </tr>\n",
       "    <tr>\n",
       "      <th>...</th>\n",
       "      <td>...</td>\n",
       "      <td>...</td>\n",
       "      <td>...</td>\n",
       "      <td>...</td>\n",
       "      <td>...</td>\n",
       "      <td>...</td>\n",
       "      <td>...</td>\n",
       "      <td>...</td>\n",
       "      <td>...</td>\n",
       "      <td>...</td>\n",
       "      <td>...</td>\n",
       "      <td>...</td>\n",
       "      <td>...</td>\n",
       "      <td>...</td>\n",
       "      <td>...</td>\n",
       "      <td>...</td>\n",
       "      <td>...</td>\n",
       "      <td>...</td>\n",
       "      <td>...</td>\n",
       "      <td>...</td>\n",
       "      <td>...</td>\n",
       "    </tr>\n",
       "    <tr>\n",
       "      <th>200</th>\n",
       "      <td>Summary\\n\\nImagine what you could do here. At ...</td>\n",
       "      <td>4.2</td>\n",
       "      <td>83.0</td>\n",
       "      <td>93.0</td>\n",
       "      <td>3.0</td>\n",
       "      <td>0</td>\n",
       "      <td>1</td>\n",
       "      <td>0</td>\n",
       "      <td>0</td>\n",
       "      <td>0</td>\n",
       "      <td>...</td>\n",
       "      <td>0</td>\n",
       "      <td>0</td>\n",
       "      <td>0</td>\n",
       "      <td>0</td>\n",
       "      <td>0</td>\n",
       "      <td>0</td>\n",
       "      <td>1</td>\n",
       "      <td>0</td>\n",
       "      <td>0</td>\n",
       "      <td>0</td>\n",
       "    </tr>\n",
       "    <tr>\n",
       "      <th>201</th>\n",
       "      <td>Facebook's mission is to give people the power...</td>\n",
       "      <td>4.4</td>\n",
       "      <td>90.0</td>\n",
       "      <td>94.0</td>\n",
       "      <td>3.1</td>\n",
       "      <td>0</td>\n",
       "      <td>1</td>\n",
       "      <td>0</td>\n",
       "      <td>0</td>\n",
       "      <td>0</td>\n",
       "      <td>...</td>\n",
       "      <td>0</td>\n",
       "      <td>0</td>\n",
       "      <td>0</td>\n",
       "      <td>0</td>\n",
       "      <td>0</td>\n",
       "      <td>0</td>\n",
       "      <td>0</td>\n",
       "      <td>0</td>\n",
       "      <td>1</td>\n",
       "      <td>0</td>\n",
       "    </tr>\n",
       "    <tr>\n",
       "      <th>202</th>\n",
       "      <td>Description\\n\\nExcited by using massive amount...</td>\n",
       "      <td>3.9</td>\n",
       "      <td>77.0</td>\n",
       "      <td>85.0</td>\n",
       "      <td>3.0</td>\n",
       "      <td>0</td>\n",
       "      <td>1</td>\n",
       "      <td>0</td>\n",
       "      <td>0</td>\n",
       "      <td>0</td>\n",
       "      <td>...</td>\n",
       "      <td>0</td>\n",
       "      <td>0</td>\n",
       "      <td>0</td>\n",
       "      <td>0</td>\n",
       "      <td>0</td>\n",
       "      <td>0</td>\n",
       "      <td>0</td>\n",
       "      <td>0</td>\n",
       "      <td>0</td>\n",
       "      <td>0</td>\n",
       "    </tr>\n",
       "    <tr>\n",
       "      <th>203</th>\n",
       "      <td>PlayStation isn’t just the Best Place to Play ...</td>\n",
       "      <td>3.7</td>\n",
       "      <td>75.0</td>\n",
       "      <td>73.0</td>\n",
       "      <td>2.7</td>\n",
       "      <td>0</td>\n",
       "      <td>0</td>\n",
       "      <td>0</td>\n",
       "      <td>0</td>\n",
       "      <td>1</td>\n",
       "      <td>...</td>\n",
       "      <td>0</td>\n",
       "      <td>0</td>\n",
       "      <td>0</td>\n",
       "      <td>0</td>\n",
       "      <td>0</td>\n",
       "      <td>0</td>\n",
       "      <td>0</td>\n",
       "      <td>0</td>\n",
       "      <td>0</td>\n",
       "      <td>0</td>\n",
       "    </tr>\n",
       "    <tr>\n",
       "      <th>204</th>\n",
       "      <td>Description:Performs exploratory research and ...</td>\n",
       "      <td>3.9</td>\n",
       "      <td>78.0</td>\n",
       "      <td>96.0</td>\n",
       "      <td>2.6</td>\n",
       "      <td>0</td>\n",
       "      <td>1</td>\n",
       "      <td>0</td>\n",
       "      <td>0</td>\n",
       "      <td>0</td>\n",
       "      <td>...</td>\n",
       "      <td>0</td>\n",
       "      <td>0</td>\n",
       "      <td>0</td>\n",
       "      <td>1</td>\n",
       "      <td>0</td>\n",
       "      <td>0</td>\n",
       "      <td>0</td>\n",
       "      <td>0</td>\n",
       "      <td>0</td>\n",
       "      <td>0</td>\n",
       "    </tr>\n",
       "  </tbody>\n",
       "</table>\n",
       "<p>205 rows × 106 columns</p>\n",
       "</div>"
      ],
      "text/plain": [
       "                                           description  company_rating  \\\n",
       "0    TikTok is the leading destination for short-fo...             4.1   \n",
       "1    THE ROLE\\n\\nTesla's mission is to accelerate t...             3.5   \n",
       "2    Facebook's mission is to give people the power...             4.4   \n",
       "3    Job Description\\n\\nThe New York Times is commi...             3.8   \n",
       "4    About Cerebri AI Cerebri AI CVX platform uses ...             3.9   \n",
       "..                                                 ...             ...   \n",
       "200  Summary\\n\\nImagine what you could do here. At ...             4.2   \n",
       "201  Facebook's mission is to give people the power...             4.4   \n",
       "202  Description\\n\\nExcited by using massive amount...             3.9   \n",
       "203  PlayStation isn’t just the Best Place to Play ...             3.7   \n",
       "204  Description:Performs exploratory research and ...             3.9   \n",
       "\n",
       "     recommend_to_a_friend  ceo_approval  interview_difficulty  \\\n",
       "0                     79.0         100.0                   2.7   \n",
       "1                     59.0          75.0                   2.9   \n",
       "2                     90.0          94.0                   3.1   \n",
       "3                     80.0          95.0                   2.9   \n",
       "4                     75.0          80.0                   2.4   \n",
       "..                     ...           ...                   ...   \n",
       "200                   83.0          93.0                   3.0   \n",
       "201                   90.0          94.0                   3.1   \n",
       "202                   77.0          85.0                   3.0   \n",
       "203                   75.0          73.0                   2.7   \n",
       "204                   78.0          96.0                   2.6   \n",
       "\n",
       "     company_size_1 to 50 employees  company_size_10000+ employees  \\\n",
       "0                                 0                              0   \n",
       "1                                 0                              1   \n",
       "2                                 0                              1   \n",
       "3                                 0                              0   \n",
       "4                                 1                              0   \n",
       "..                              ...                            ...   \n",
       "200                               0                              1   \n",
       "201                               0                              1   \n",
       "202                               0                              1   \n",
       "203                               0                              0   \n",
       "204                               0                              1   \n",
       "\n",
       "     company_size_1001 to 5000 employees  company_size_201 to 500 employees  \\\n",
       "0                                      1                                  0   \n",
       "1                                      0                                  0   \n",
       "2                                      0                                  0   \n",
       "3                                      1                                  0   \n",
       "4                                      0                                  0   \n",
       "..                                   ...                                ...   \n",
       "200                                    0                                  0   \n",
       "201                                    0                                  0   \n",
       "202                                    0                                  0   \n",
       "203                                    0                                  0   \n",
       "204                                    0                                  0   \n",
       "\n",
       "     company_size_5001 to 10000 employees  ...  location_bin_NY  \\\n",
       "0                                       0  ...                0   \n",
       "1                                       0  ...                0   \n",
       "2                                       0  ...                0   \n",
       "3                                       0  ...                1   \n",
       "4                                       0  ...                0   \n",
       "..                                    ...  ...              ...   \n",
       "200                                     0  ...                0   \n",
       "201                                     0  ...                0   \n",
       "202                                     0  ...                0   \n",
       "203                                     1  ...                0   \n",
       "204                                     0  ...                0   \n",
       "\n",
       "     location_bin_ON  location_bin_OR  location_bin_Other  location_bin_QC  \\\n",
       "0                  0                0                   0                0   \n",
       "1                  0                0                   0                0   \n",
       "2                  0                0                   0                0   \n",
       "3                  0                0                   0                0   \n",
       "4                  1                0                   0                0   \n",
       "..               ...              ...                 ...              ...   \n",
       "200                0                0                   0                0   \n",
       "201                0                0                   0                0   \n",
       "202                0                0                   0                0   \n",
       "203                0                0                   0                0   \n",
       "204                0                0                   1                0   \n",
       "\n",
       "     location_bin_Scotland  location_bin_TX  location_bin_VA  location_bin_WA  \\\n",
       "0                        0                0                0                0   \n",
       "1                        0                0                0                0   \n",
       "2                        0                0                0                0   \n",
       "3                        0                0                0                0   \n",
       "4                        0                0                0                0   \n",
       "..                     ...              ...              ...              ...   \n",
       "200                      0                1                0                0   \n",
       "201                      0                0                0                1   \n",
       "202                      0                0                0                0   \n",
       "203                      0                0                0                0   \n",
       "204                      0                0                0                0   \n",
       "\n",
       "     location_bin_nan  \n",
       "0                   0  \n",
       "1                   0  \n",
       "2                   0  \n",
       "3                   0  \n",
       "4                   0  \n",
       "..                ...  \n",
       "200                 0  \n",
       "201                 0  \n",
       "202                 0  \n",
       "203                 0  \n",
       "204                 0  \n",
       "\n",
       "[205 rows x 106 columns]"
      ]
     },
     "execution_count": 17,
     "metadata": {},
     "output_type": "execute_result"
    }
   ],
   "source": [
    "## Creating a one hot encoded version of the feature matrix, with an additional level for each feature to indicate if a row is missing a value for that feature.  \n",
    "\n",
    "X_one_hot = pd.get_dummies(X, dummy_na = True, columns = ['company_size', 'company_type', 'industry', 'revenue', 'location_bin'])\n",
    "X_one_hot"
   ]
  },
  {
   "cell_type": "code",
   "execution_count": 18,
   "metadata": {},
   "outputs": [],
   "source": [
    "## Finding indices for rows with missing company size value.\n",
    "## Filling in np.nan as the value at each level of the company size variable for each row with a missing company size. \n",
    "\n",
    "missing_company_size_indices = X_one_hot[(X_one_hot['company_size_nan'] == 1)].index\n",
    "\n",
    "X_one_hot.iloc[missing_company_size_indices, 5:12] = np.nan"
   ]
  },
  {
   "cell_type": "code",
   "execution_count": 19,
   "metadata": {},
   "outputs": [],
   "source": [
    "## Dropping the missing value indicator feature now that missingness has been encoded with np.nan at each feature level. \n",
    "\n",
    "X_one_hot = X_one_hot.drop(columns = 'company_size_nan')"
   ]
  },
  {
   "cell_type": "code",
   "execution_count": 20,
   "metadata": {},
   "outputs": [],
   "source": [
    "## Finding indices for rows with revenue value.\n",
    "## Filling in np.nan as the value at each level of the revenue variable for each row with a missing revenue. \n",
    "\n",
    "\n",
    "missing_revenue_indices = X_one_hot[(X_one_hot['revenue_nan'] == 1)].index\n",
    "\n",
    "X_one_hot.iloc[missing_revenue_indices, 69:80] = np.nan"
   ]
  },
  {
   "cell_type": "code",
   "execution_count": 21,
   "metadata": {},
   "outputs": [],
   "source": [
    "## Dropping the missing value indicator feature now that missingness has been encoded with np.nan at each feature level. \n",
    "\n",
    "X_one_hot = X_one_hot.drop(columns = 'revenue_nan')"
   ]
  },
  {
   "cell_type": "code",
   "execution_count": 22,
   "metadata": {},
   "outputs": [],
   "source": [
    "## Dropping all other missing value indicator features for the other categorical variables. \n",
    "\n",
    "X_one_hot = X_one_hot.drop(columns = ['company_type_nan', 'industry_nan', 'location_bin_nan'])"
   ]
  },
  {
   "cell_type": "code",
   "execution_count": 25,
   "metadata": {},
   "outputs": [],
   "source": [
    "## Missing values will be imputed using the IterativeImputer class.\n",
    "\n",
    "ct = ColumnTransformer([(\"impute\", IterativeImputer(estimator = RandomForestRegressor(n_estimators = 500, n_jobs = -1), add_indicator = True), slice(1, len(X_one_hot.columns))), (\"text\", TfidfVectorizer(token_pattern =  r\"[a-zA-Z0-9\\+\\-\\.]+\", ngram_range = (1,3), min_df = 0.05, max_df = 0.8), 'description')], remainder = 'passthrough')\n",
    "\n",
    "gb_ii_pipe = Pipeline(steps = [(\"ct\", ct), (\"gb\", GradientBoostingRegressor(n_estimators = 200, max_features = None, max_depth = 1, learning_rate = 0.05))])\n",
    "\n",
    "gb_ii_parameters = {'ct__impute__estimator__max_features' : [25, 50, 75, 100]}\n",
    "\n",
    "gb_ii_gs = GridSearchCV(gb_ii_pipe, gb_ii_parameters, scoring = make_scorer(scoring_metric_, greater_is_better = False), return_train_score = True, n_jobs = -1, verbose=10)"
   ]
  },
  {
   "cell_type": "code",
   "execution_count": null,
   "metadata": {},
   "outputs": [],
   "source": [
    "gb_ii_gs.fit(X_one_hot, Y)"
   ]
  },
  {
   "cell_type": "markdown",
   "metadata": {},
   "source": [
    "#### Score"
   ]
  },
  {
   "cell_type": "code",
   "execution_count": 27,
   "metadata": {},
   "outputs": [
    {
     "data": {
      "text/plain": [
       "-432223502.61122465"
      ]
     },
     "execution_count": 27,
     "metadata": {},
     "output_type": "execute_result"
    }
   ],
   "source": [
    "gb_ii_gs.best_score_"
   ]
  },
  {
   "cell_type": "markdown",
   "metadata": {},
   "source": [
    "### Saving Modelling Pipeline"
   ]
  },
  {
   "cell_type": "code",
   "execution_count": 167,
   "metadata": {},
   "outputs": [],
   "source": [
    "## Pickling the best estimator (a pipeline object) from the grid search procedure for the gradient boosted tree model with SimpleImputer.\n",
    "\n",
    "pickle.dump(gb_gs.best_estimator_, open(\"gb_pipeline.pkl\", \"wb\"))"
   ]
  }
 ],
 "metadata": {
  "kernelspec": {
   "display_name": "Python 3",
   "language": "python",
   "name": "python3"
  },
  "language_info": {
   "codemirror_mode": {
    "name": "ipython",
    "version": 3
   },
   "file_extension": ".py",
   "mimetype": "text/x-python",
   "name": "python",
   "nbconvert_exporter": "python",
   "pygments_lexer": "ipython3",
   "version": "3.8.6"
  }
 },
 "nbformat": 4,
 "nbformat_minor": 4
}
