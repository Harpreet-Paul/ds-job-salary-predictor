{
  "nbformat": 4,
  "nbformat_minor": 0,
  "metadata": {
    "colab": {
      "name": "Complicated LinkedIn Job Scrape with Selenium and Python - Capturing \"Infinite Scrolling\" content.ipynb",
      "provenance": [],
      "collapsed_sections": []
    },
    "kernelspec": {
      "name": "python3",
      "display_name": "Python 3"
    }
  },
  "cells": [
    {
      "cell_type": "markdown",
      "metadata": {
        "id": "cNScV1JXzYmJ",
        "colab_type": "text"
      },
      "source": [
        "# LinkedIn Job Scrape with Selenium and Python\n",
        "\n",
        "There has been a lot of discussion over the difficulty of accessing the LinkedIn job search results in an automated fashion. This notebook will show you how to use Selenium to connect to LinkedIn and scrape the data you need. Note that most website terms of service forbids this for commercial purposes, but typically does not mind against low bandwidth scraping for personal use. Review website terms of services before using Selenium to scrape any content to be sure you are not violating them by doing so...\n"
      ]
    },
    {
      "cell_type": "markdown",
      "metadata": {
        "id": "PKsRS_Epz41S",
        "colab_type": "text"
      },
      "source": [
        "Start by installing the Selenium dependencies and chromium-chromedriver so that we can use Selenium with a \"headless\" browser (refers to a browser without a user interface, IE no monitor to display the browser graphically).\n",
        "\n",
        "The following commands are used on a Linux operating system, and will need to be modified if you are installing Selenium locally on a Windows OS (or Mac OS) instead of running Selenium via Colabs."
      ]
    },
    {
      "cell_type": "code",
      "metadata": {
        "id": "_NGgMALkxVgy",
        "colab_type": "code",
        "colab": {}
      },
      "source": [
        "!pip install selenium\n",
        "!apt-get update # to update ubuntu to correctly run apt install\n",
        "!apt install chromium-chromedriver\n",
        "!cp /usr/lib/chromium-browser/chromedriver /usr/bin\n",
        "import sys\n",
        "sys.path.insert(0,'/usr/lib/chromium-browser/chromedriver')\n",
        "from selenium import webdriver\n",
        "from selenium.webdriver.common.keys import Keys"
      ],
      "execution_count": null,
      "outputs": []
    },
    {
      "cell_type": "markdown",
      "metadata": {
        "id": "7o5VjrNt0Whg",
        "colab_type": "text"
      },
      "source": [
        "After running the cell, you may have a deprecation warning. You can ignore this for now. The deprecation warning indicates that they are changing the way ChromeOptions will be used for future versions. In the next cell, we add some setup options to indicate that we will be running headless Chromium (the development/open-source version of Chrome that is Google's base for commercial Chrome)"
      ]
    },
    {
      "cell_type": "code",
      "metadata": {
        "id": "i4CEnhT0xk4n",
        "colab_type": "code",
        "colab": {}
      },
      "source": [
        "chrome_options = webdriver.ChromeOptions()\n",
        "chrome_options.add_argument('--headless')\n",
        "chrome_options.add_argument('--no-sandbox')\n",
        "chrome_options.add_argument('--disable-dev-shm-usage')\n",
        "wd = webdriver.Chrome('chromedriver',chrome_options=chrome_options)"
      ],
      "execution_count": null,
      "outputs": []
    },
    {
      "cell_type": "markdown",
      "metadata": {
        "id": "PcloUP9y0z_F",
        "colab_type": "text"
      },
      "source": [
        "Next we navigate to the LinkedIn homepage."
      ]
    },
    {
      "cell_type": "code",
      "metadata": {
        "id": "2cq8mI39y8-f",
        "colab_type": "code",
        "colab": {}
      },
      "source": [
        "wd.get(\"https://www.linkedin.com/login\")\n",
        "print(wd.title)\n"
      ],
      "execution_count": null,
      "outputs": []
    },
    {
      "cell_type": "markdown",
      "metadata": {
        "id": "pk4J9fPr091X",
        "colab_type": "text"
      },
      "source": [
        "Expected output: \n",
        "\n",
        "    LinkedIn Login, Sign in | LinkedIn\n",
        "\n",
        "This is the title of the LinkedIn homepage.\n",
        "\n",
        "Next we will use CSS selectors to focus on the login input fields, enter a username and password, and then submit the form to automate logging in. You will be prompted for a LinkedIn username and password. It is recommended to use a dummy account in case you make a programming mistake and cause LinkedIn to block your account due to abuse.\n",
        "\n",
        "Elements are selected using the Selenium Webdriver find_element_by_xxx methods. You can read about them here: https://selenium-python.readthedocs.io/locating-elements.html. You can determine the selector for the element you wish to target by navigating to the page using your browser, right clicking on the element and selecting \"Inspect Element\" on most browsers (Chrome, Firefox, Edge...). This will bring up a dynamic HTML view of the element you are inspecting. Look for attributes like `id` or `class`. You can learn more about using css selectors (obtained from the class attribute) here: https://www.w3schools.com/cssref/css_selectors.asp"
      ]
    },
    {
      "cell_type": "markdown",
      "metadata": {
        "id": "1_S3AtFg6ZTw",
        "colab_type": "text"
      },
      "source": [
        "Next, we attempt to access the search field that is present on the LinkedIn homepage after logging in.\n",
        "\n",
        "This block sets a 10 second timeout limit and polls for the existence of the search field. If the field isn't found, it checks the title of the page to determine if a security verification check is required. If so, it will prompt the user to enter the PIN that LinkedIn will forward to the users email, and then fills out the form. After the form is filled out, it checks again for the search field.\n",
        "\n",
        "If the search field cannot be found and the page title does not indicate a security check is requested, there could be another page being displayed (usually asking to confirm a phone number or something similar). To resolve this, manually log into the browser and clear the screen, then rerun the code from the beginning. Note - if LinkedIn is asking you to confirm you are not a robot, then they will likely start blocking the account if it continues to scrape at the same rate soon.\n"
      ]
    },
    {
      "cell_type": "code",
      "metadata": {
        "id": "F4Qkqloz0yjS",
        "colab_type": "code",
        "colab": {}
      },
      "source": [
        "username = input('Enter your LinkedIn username: ')\n",
        "password = input ('Enter your LinkedIn password: ')\n",
        "username_field = wd.find_element_by_id('username')\n",
        "username_field.clear()\n",
        "username_field.send_keys(username)\n",
        "password_field = wd.find_element_by_id('password')\n",
        "password_field.clear()\n",
        "password_field.send_keys(password)\n",
        "submit_button = wd.find_element_by_css_selector('button')\n",
        "submit_button.click()"
      ],
      "execution_count": null,
      "outputs": []
    },
    {
      "cell_type": "code",
      "metadata": {
        "id": "uLrWhRKv4Yo9",
        "colab_type": "code",
        "colab": {}
      },
      "source": [
        "wd.save_screenshot('test2.png')\n",
        "wd.implicitly_wait(10)\n",
        "try:\n",
        "  search_field = wd.find_element_by_css_selector('.search-global-typeahead__input')\n",
        "except:\n",
        "  if wd.title == 'Security Verification | LinkedIn':\n",
        "    # LinkedIn is asking for a verification code. Check your email and input the code here\n",
        "    code = input('Enter the verification code: ')\n",
        "    verification_input = wd.find_element_by_css_selector('.input_verification_pin')\n",
        "    verification_input.clear()\n",
        "    verification_input.send_keys(code)\n",
        "    submit_button = wd.find_element_by_id('email-pin-submit-button')\n",
        "    submit_button.click()\n",
        "    # Implicit wait already set to 10 seconds\n",
        "    search_field = wd.find_element_by_css_selector('.search-global-typeahead__input')\n",
        "\n",
        "\n",
        "\n",
        "\n"
      ],
      "execution_count": null,
      "outputs": []
    },
    {
      "cell_type": "markdown",
      "metadata": {
        "id": "Wd6_NIUAaAnR",
        "colab_type": "text"
      },
      "source": [
        "Create a new jobs list, and define a function that extracts the job results that are on the page. This function will be used in the next cell.\n",
        "\n",
        "The function takes a list of result elements, and then iterates over the list. It uses webdriver selectors to select HTML children in the list and save the text results to a job dictionary, that is then appended to the job list. The job data here excludes the more detailed description, skill list, and industries but obtains the URL for the job posting so that we can extract additional data at a later time"
      ]
    },
    {
      "cell_type": "code",
      "metadata": {
        "id": "PUOMR6VlC-_L",
        "colab_type": "code",
        "colab": {}
      },
      "source": [
        "import time\n",
        "jobs = []\n",
        "def extract_jobs_on_page():  \n",
        "  index = 0\n",
        "  result_list = []\n",
        "  global jobs\n",
        "\n",
        "  while True:    \n",
        "    print('Scraping job #' + str(index))\n",
        "    job = {}\n",
        "    time.sleep(1)    \n",
        "    try:\n",
        "      result_list = wd.find_elements_by_css_selector('.job-card-list--underline-title-on-hover')\n",
        "      item = result_list[index]\n",
        "      company_element = item.find_element_by_css_selector('.job-card-container__company-name')\n",
        "      company = company_element.text\n",
        "      title_element = item.find_element_by_css_selector('.job-card-list__title')\n",
        "      title = title_element.text\n",
        "      location_element = item.find_element_by_css_selector('.artdeco-entity-lockup__caption')\n",
        "      location = location_element.text\n",
        "      posted_element = item.find_element_by_css_selector('.job-card-container__listed-time')\n",
        "      posted = posted_element.get_attribute('datetime')\n",
        "      url_element = item.find_element_by_css_selector('.job-card-container__link')\n",
        "      url = url_element.get_attribute('href')\n",
        "      job = {\n",
        "        \"company\": company,\n",
        "        \"title\": title,\n",
        "        \"location\": location,\n",
        "        \"posted\": posted,\n",
        "        \"href\": url\n",
        "      }\n",
        "      jobs.append(job) \n",
        "    except:\n",
        "      print('Error on job # ' + str(index))\n",
        "    if index >= len(result_list) - 1:\n",
        "      break\n",
        "    index = index + 1\n",
        "    wd.execute_script(\"return arguments[0].scrollIntoView();\", result_list[index])    "
      ],
      "execution_count": null,
      "outputs": []
    },
    {
      "cell_type": "markdown",
      "metadata": {
        "id": "JVccLNDlaboR",
        "colab_type": "text"
      },
      "source": [
        "Get the first page of job results, and extract the results from the page. \n",
        "\n",
        "You can manually apply a specific search filter and extract the URL from your browser. If you replace it here, you should be able to scrape using your desired filters. Leave off the \"&page\" querystring variable when copying the URL here, as it is already being added to the end for you. \n"
      ]
    },
    {
      "cell_type": "markdown",
      "metadata": {
        "id": "un452lQpbB7m",
        "colab_type": "text"
      },
      "source": [
        "The expected output for the above cell should be the total number of results in your search based on the search criteria.\n",
        "\n",
        "The next cell visits every page from 2 to 50 by incrementing the page querystring variable for each iteration, and extracts the job search results on each page. This cell may take a few minutes to complete."
      ]
    },
    {
      "cell_type": "code",
      "metadata": {
        "id": "zlc2AkH768BZ",
        "colab_type": "code",
        "colab": {}
      },
      "source": [
        "search_url = 'https://www.linkedin.com/jobs/search/?distance=10&geoId=104116203&keywords=data%20science'\n",
        "wd.get(search_url)\n",
        "print(wd.save_screenshot('test.png'))\n",
        "result_count = wd.find_elements_by_css_selector('.jobs-search-two-pane__title-heading')\n",
        "# result_count = wd.find_element_by_css_selector('.search-results__total')\n",
        "result_list = wd.find_elements_by_css_selector('.search-results__list li .job')\n",
        "# print(result_count.text)\n",
        "# extract_jobs_on_page()"
      ],
      "execution_count": null,
      "outputs": []
    },
    {
      "cell_type": "code",
      "metadata": {
        "id": "MWKdjkBktIVL",
        "colab_type": "code",
        "colab": {}
      },
      "source": [
        "print(jobs)"
      ],
      "execution_count": null,
      "outputs": []
    },
    {
      "cell_type": "markdown",
      "metadata": {
        "id": "k6CTMcTzYrd4",
        "colab_type": "text"
      },
      "source": [
        "# New Section"
      ]
    },
    {
      "cell_type": "code",
      "metadata": {
        "id": "v437-osLI7q3",
        "colab_type": "code",
        "colab": {}
      },
      "source": [
        "def extract_multiple_pgs(page_index):\n",
        "  for i in range(11, 15):\n",
        "    wd.get(search_url + '&start=' + str(i * 25))\n",
        "    extract_jobs_on_page()\n",
        "    time.sleep(3)\n",
        "    print('Successfully scraped page ' + str(i+1))\n",
        "  print(jobs)"
      ],
      "execution_count": null,
      "outputs": []
    },
    {
      "cell_type": "code",
      "metadata": {
        "id": "L7rVHkoBKaIl",
        "colab_type": "code",
        "colab": {}
      },
      "source": [
        "extract_multiple_pgs(5)"
      ],
      "execution_count": null,
      "outputs": []
    },
    {
      "cell_type": "code",
      "metadata": {
        "id": "fTZ7iYNVRleo",
        "colab_type": "code",
        "colab": {}
      },
      "source": [
        "print(str(len(jobs)) + ' jobs scraped')\n",
        "print(jobs)"
      ],
      "execution_count": null,
      "outputs": []
    },
    {
      "cell_type": "markdown",
      "metadata": {
        "id": "yFehNhuSbnGo",
        "colab_type": "text"
      },
      "source": [
        "You should have received the total number of job listings that were scraped. Next, we will visit each job link individually and obtain detailed data such as job description, skill list and industries.\n",
        "\n",
        "This cell can take a very long time to run (~30 minutes to 1 hour depending on the number of job postings)"
      ]
    },
    {
      "cell_type": "code",
      "metadata": {
        "id": "ILQBAwYlDOa5",
        "colab_type": "code",
        "colab": {}
      },
      "source": [
        "full_jobs = []\n",
        "for job in jobs:\n",
        "  wd.get(job['href'])\n",
        "  \n",
        "  ## extracting salary estimate\n",
        "  \n",
        "  try:\n",
        "    salary = wd.find_element_by_css_selector('.salary-main-rail__data-amount')\n",
        "    job['salary'] = salary.text\n",
        "\n",
        "  ## setting salary to some default value if salary information is unavailable \n",
        "\n",
        "  except:\n",
        "    job['salary'] = -1\n",
        "  \n",
        "  description = wd.find_element_by_css_selector('.jobs-description-content__text')\n",
        "  job['description'] = description.text\n",
        "  skills = []\n",
        "  skill_list = wd.find_elements_by_css_selector('.jobs-ppc-criteria__list--skills li .jobs-ppc-criteria__value')\n",
        "  for skill in skill_list:\n",
        "    if(skill.text.strip() != ''): \n",
        "      skills.append(skill.text.strip())\n",
        "  job['skills'] = skills\n",
        "  industry_list = wd.find_elements_by_css_selector('.jobs-description-details__list li')\n",
        "  industries = []\n",
        "  for industry in industry_list:\n",
        "    industry_name = industry.get_attribute('innerHTML')\n",
        "    if (industry_name.strip() != ''): \n",
        "      industries.append(industry_name.strip())\n",
        "  job['industry'] = industries\n",
        "  full_jobs.append(job)\n",
        "print(full_jobs[0])\n"
      ],
      "execution_count": null,
      "outputs": []
    },
    {
      "cell_type": "markdown",
      "metadata": {
        "id": "xoYo83_ueHkx",
        "colab_type": "text"
      },
      "source": [
        "An example of a completely scraped record should be displayed above.\n",
        "\n",
        "Now you can take this data and store it anyway you choose - send it to a database or dump it into a file. The next link demonstrates how you can save the output to a CSV: https://code.tutsplus.com/tutorials/how-to-read-and-write-csv-files-in-python--cms-29907"
      ]
    }
  ]
}