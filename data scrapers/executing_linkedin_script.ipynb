{
 "cells": [
  {
   "cell_type": "code",
   "execution_count": 1,
   "metadata": {},
   "outputs": [],
   "source": [
    "import scraping_linkedin_job_postings as scraper\n",
    "import pandas as pd\n",
    "import time\n",
    "import pickle"
   ]
  },
  {
   "cell_type": "code",
   "execution_count": null,
   "metadata": {},
   "outputs": [],
   "source": [
    "chromedriver_path = '/Users/isabellanguyen/predicting ds job salaries/chromedriver'\n",
    "username = 'nymdayo@gmail.com'\n",
    "password = 'happy23!'\n",
    "search_url = 'https://www.linkedin.com/jobs/search/?f_SB2=21&geoId=101174742&keywords=data%20scientist&location=Canada'\n",
    "num_of_pages = 3\n",
    "PROXYVAR = \"200.0.40.134:8080\""
   ]
  },
  {
   "cell_type": "code",
   "execution_count": null,
   "metadata": {},
   "outputs": [],
   "source": [
    "canada_linkedin_jobs_pages_1_to_3 = scraper.scraper(chromedriver_path, PROXYVAR, username, password, search_url, num_of_pages)"
   ]
  },
  {
   "cell_type": "code",
   "execution_count": null,
   "metadata": {},
   "outputs": [],
   "source": [
    "pickle.dump(canada_linkedin_jobs_pages_1_to_3, open(\"canada_linkedin_jobs_pages_1_to_3.pkl\", \"wb\")) "
   ]
  },
  {
   "cell_type": "code",
   "execution_count": 2,
   "metadata": {},
   "outputs": [],
   "source": [
    "list_of_dfs = []\n",
    "linkedin_jobs_pages_1_to_8 = pickle.load(open(\"worldwide_linkedin_jobs_pages_1_to_8.pkl\", \"rb\"))\n",
    "list_of_dfs.append(linkedin_jobs_pages_1_to_8)\n",
    "x = 9\n",
    "while x < 39:\n",
    "    df = pickle.load(open(\"worldwide_linkedin_jobs_pages_\" + str(x) + \"_to_\" + str(x+2) + \".pkl\", \"rb\"))\n",
    "    list_of_dfs.append(df)\n",
    "    x += 3\n",
    "linkedin_jobs_pages_39_to_40 = pickle.load(open(\"worldwide_linkedin_jobs_pages_39_to_40.pkl\", \"rb\"))\n",
    "list_of_dfs.append(linkedin_jobs_pages_39_to_40)\n",
    "df = pd.concat(list_of_dfs)\n",
    "    "
   ]
  },
  {
   "cell_type": "code",
   "execution_count": 3,
   "metadata": {},
   "outputs": [],
   "source": [
    "df = df[df['salary'] != -1]"
   ]
  },
  {
   "cell_type": "code",
   "execution_count": 4,
   "metadata": {},
   "outputs": [],
   "source": [
    "df.reset_index(inplace=True, drop = True)"
   ]
  },
  {
   "cell_type": "code",
   "execution_count": 6,
   "metadata": {},
   "outputs": [],
   "source": [
    "pickle.dump(df, open(\"all_worldwide_datascience_jobs_linkedin.pkl\", \"wb\"))"
   ]
  },
  {
   "cell_type": "code",
   "execution_count": null,
   "metadata": {},
   "outputs": [],
   "source": []
  }
 ],
 "metadata": {
  "kernelspec": {
   "display_name": "Python 3",
   "language": "python",
   "name": "python3"
  },
  "language_info": {
   "codemirror_mode": {
    "name": "ipython",
    "version": 3
   },
   "file_extension": ".py",
   "mimetype": "text/x-python",
   "name": "python",
   "nbconvert_exporter": "python",
   "pygments_lexer": "ipython3",
   "version": "3.7.4"
  }
 },
 "nbformat": 4,
 "nbformat_minor": 2
}
