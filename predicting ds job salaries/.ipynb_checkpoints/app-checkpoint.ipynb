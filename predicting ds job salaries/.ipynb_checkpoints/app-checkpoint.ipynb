{
 "cells": [
  {
   "cell_type": "code",
   "execution_count": null,
   "metadata": {},
   "outputs": [],
   "source": [
    "import pickle\n",
    "import numpy as np\n",
    "import pandas as pd\n",
    "import flask"
   ]
  },
  {
   "cell_type": "code",
   "execution_count": null,
   "metadata": {},
   "outputs": [],
   "source": [
    "gb_pipeline = pickle.load(open(\"pickle objects/gb_pipeline.pkl\", \"rb\"))"
   ]
  },
  {
   "cell_type": "code",
   "execution_count": null,
   "metadata": {},
   "outputs": [],
   "source": [
    "\n",
    "app = flask.Flask(__name__, template_folder='templates')\n",
    "\n",
    "\n",
    "@app.route('/', methods=['GET', 'POST'])\n",
    "\n",
    "\n",
    "\n",
    "def main():\n",
    "    \n",
    "    if flask.request.method == 'GET':\n",
    "        return(flask.render_template('home_page_html', prediction = ''))\n",
    "\n",
    "    \n",
    "    if flask.request.method == 'POST':\n",
    "        \n",
    "        description = flask.request.form['description']\n",
    "        \n",
    "        company_size = flask.request.form['company_size']\n",
    "        \n",
    "        company_type = flask.request.form['company_type']\n",
    "      \n",
    "        industry = flask.request.form['industry']\n",
    "    \n",
    "        revenue = flask.request.form['revenue']\n",
    "        \n",
    "        company_rating = flask.request.form['company_rating']\n",
    "        \n",
    "        recommend_to_a_friend = flask.request.form['recommend_to_a_friend']\n",
    "        \n",
    "        ceo_approval = flask.request.form['ceo_approval']\n",
    "        \n",
    "        interview_difficulty = flask.request.form['interview_difficulty']\n",
    "        \n",
    "        location_bin = flask.request.form['location_bin']\n",
    "        \n",
    "                                          \n",
    "        data = [description, company_size, company_type, industry, revenue, company_rating, recommend_to_a_friend, ceo_approval, interview_difficulty, location_bin]\n",
    "        \n",
    "        for feature in data:\n",
    "            if feature == 'Unknown':\n",
    "                feature = np.nan\n",
    "            \n",
    "        data_array = np.array(data).reshape(1,-1)\n",
    "        df = pd.DataFrame(data_array, columns = ['description', 'company_size', 'company_type', 'industry',\n",
    "       'revenue', 'company_rating', 'recommend_to_a_friend', 'ceo_approval',\n",
    "       'interview_difficulty', 'location_bin'])\n",
    "                                          \n",
    "        prediction = gb_pipeline.predict(df)\n",
    "        prediction = \"$\" + str(round(prediction[0])) + \" USD/Year\"\n",
    "        \n",
    "        return(flask.render_template('home_page_html', prediction = prediction))\n",
    "        \n",
    "       \n",
    "        \n",
    "\n",
    "if __name__ == '__main__':\n",
    "    app.run(host='0.0.0.0', port=5000)"
   ]
  }
 ],
 "metadata": {
  "kernelspec": {
   "display_name": "Python 3",
   "language": "python",
   "name": "python3"
  },
  "language_info": {
   "codemirror_mode": {
    "name": "ipython",
    "version": 3
   },
   "file_extension": ".py",
   "mimetype": "text/x-python",
   "name": "python",
   "nbconvert_exporter": "python",
   "pygments_lexer": "ipython3",
   "version": "3.8.6"
  }
 },
 "nbformat": 4,
 "nbformat_minor": 4
}
